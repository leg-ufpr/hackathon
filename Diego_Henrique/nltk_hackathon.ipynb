{
 "cells": [
  {
   "cell_type": "code",
   "execution_count": 1,
   "metadata": {},
   "outputs": [],
   "source": [
    "import os\n",
    "import numpy as np\n",
    "import pandas as pd \n",
    "from tqdm import tqdm_notebook\n",
    "import matplotlib.pyplot as plt\n",
    "%matplotlib inline\n",
    "\n",
    "import warnings\n",
    "warnings.filterwarnings('ignore')\n",
    "\n",
    "import seaborn as sns\n",
    "import datetime\n",
    "import pickle\n",
    "\n",
    "import nltk\n",
    "from string import punctuation\n",
    "from collections import OrderedDict\n",
    "import matplotlib.pyplot as plt\n",
    "from operator import itemgetter"
   ]
  },
  {
   "cell_type": "code",
   "execution_count": 2,
   "metadata": {},
   "outputs": [],
   "source": [
    "df = pd.read_pickle('final.p')"
   ]
  },
  {
   "cell_type": "code",
   "execution_count": 3,
   "metadata": {},
   "outputs": [
    {
     "data": {
      "text/plain": [
       "Título                                    Ótimo carro a um custo baixo!\n",
       "Carro                                  Chevrolet Celta LT 1.0 2015/2015\n",
       "Dono                                                               Hugo\n",
       "Prós                  Motor potente pra um carro 1.0, sem deixar de ...\n",
       "Contras                                                   Saiu de linha\n",
       "Defeitos                                                         Nenhum\n",
       "Opinião               Este é o segundo celta que compro 0km e não me...\n",
       "Data                                                1520026020000000000\n",
       "Estilo                                                               10\n",
       "Acabamento                                                            8\n",
       "Posição de dirigir                                                    8\n",
       "Instrumentos                                                          8\n",
       "Interior                                                              6\n",
       "Porta-malas                                                           6\n",
       "Desempenho                                                            8\n",
       "Motor                                                                10\n",
       "Câmbio                                                               10\n",
       "Freios                                                               10\n",
       "Suspensão                                                             8\n",
       "Consumo                                                              10\n",
       "Estabilidade                                                          8\n",
       "Custo-Benefício                                                      10\n",
       "Recomendação                                                         10\n",
       "ID                                                             3b9dcf63\n",
       "Carro Anterior                                          Chevrolet Celta\n",
       "Média                                                             8.125\n",
       "Quilometragem                                                    59.000\n",
       "Anos de Uso                                                           3\n",
       "Cidade                                                        São Pedro\n",
       "Estado                                                               SP\n",
       "Ano do Carro                                                  2015/2015\n",
       "Ano Início                                                         2015\n",
       "Ano Final                                                          2015\n",
       "Marca                                                         Chevrolet\n",
       "Sexo                                                                  M\n",
       "Região                                                          Sudeste\n",
       "Weekday                                                               4\n",
       "Capital                                                           False\n",
       "População                                                         34898\n",
       "Name: 3b9dcf63, dtype: object"
      ]
     },
     "execution_count": 3,
     "metadata": {},
     "output_type": "execute_result"
    }
   ],
   "source": [
    "df.iloc[1]"
   ]
  },
  {
   "cell_type": "code",
   "execution_count": 4,
   "metadata": {},
   "outputs": [],
   "source": [
    "df = df[['Marca', 'Prós', 'Contras', 'Defeitos', 'Opinião']]"
   ]
  },
  {
   "cell_type": "code",
   "execution_count": 5,
   "metadata": {},
   "outputs": [],
   "source": [
    "with open('./stopwords.txt','r', encoding='utf-8') as f:\n",
    "    stop_words = f.read()\n",
    "\n",
    "def clean_data(x):\n",
    "\n",
    "   x =  ''.join([c for c in x if c not in punctuation])\n",
    "   x = x.lower()\n",
    "   x = x\n",
    "\n",
    "   return x"
   ]
  },
  {
   "cell_type": "code",
   "execution_count": 6,
   "metadata": {},
   "outputs": [],
   "source": [
    "    \n",
    "df['Prós'] = df['Prós'].apply(lambda x: clean_data(x))\n",
    "df['Contras'] = df['Contras'].apply(lambda x: clean_data(x))\n",
    "df['Defeitos'] = df['Defeitos'].apply(lambda x: clean_data(x))\n",
    "df['Opinião'] = df['Opinião'].apply(lambda x: clean_data(x))"
   ]
  },
  {
   "cell_type": "code",
   "execution_count": 7,
   "metadata": {},
   "outputs": [],
   "source": [
    "def limit_set(aux,min_length,min_freq):\n",
    "    '''\n",
    "    Metodo para limitar o bag of Words, existem palavras com poucas frequencias\n",
    "    e palavras nao muito uteis como artigos (e,as ,os), existem muitas palavras que são numeros\n",
    "    relacionados a quilometragem, que contribuem para o ruído do dataset\n",
    "    '''\n",
    "    keys = []\n",
    "    for key in aux.keys():\n",
    "        if len(key) < min_length or aux[key] < min_freq or key.isdigit() or key in stop_words or key.find('km')!=-1 or key.find('mil')!=-1:\n",
    "            keys.append(key)\n",
    "            \n",
    "    for key in keys:\n",
    "        del aux[key]\n",
    "        \n",
    "    return aux"
   ]
  },
  {
   "cell_type": "code",
   "execution_count": 8,
   "metadata": {},
   "outputs": [
    {
     "data": {
      "text/html": [
       "<div>\n",
       "<style>\n",
       "    .dataframe thead tr:only-child th {\n",
       "        text-align: right;\n",
       "    }\n",
       "\n",
       "    .dataframe thead th {\n",
       "        text-align: left;\n",
       "    }\n",
       "\n",
       "    .dataframe tbody tr th {\n",
       "        vertical-align: top;\n",
       "    }\n",
       "</style>\n",
       "<table border=\"1\" class=\"dataframe\">\n",
       "  <thead>\n",
       "    <tr style=\"text-align: right;\">\n",
       "      <th></th>\n",
       "      <th>Marca</th>\n",
       "      <th>Prós</th>\n",
       "      <th>Contras</th>\n",
       "      <th>Defeitos</th>\n",
       "      <th>Opinião</th>\n",
       "    </tr>\n",
       "    <tr>\n",
       "      <th>ID</th>\n",
       "      <th></th>\n",
       "      <th></th>\n",
       "      <th></th>\n",
       "      <th></th>\n",
       "      <th></th>\n",
       "    </tr>\n",
       "  </thead>\n",
       "  <tbody>\n",
       "    <tr>\n",
       "      <th>e2b9dc08</th>\n",
       "      <td>Chevrolet</td>\n",
       "      <td>economia de combustível peças baratas resisten...</td>\n",
       "      <td>um pouco baixo as vezes quando está carregado ...</td>\n",
       "      <td>nenhum</td>\n",
       "      <td>o carro é 10 estou com ele a 7 anos e rodei 35...</td>\n",
       "    </tr>\n",
       "    <tr>\n",
       "      <th>3b9dcf63</th>\n",
       "      <td>Chevrolet</td>\n",
       "      <td>motor potente pra um carro 10 sem deixar de la...</td>\n",
       "      <td>saiu de linha</td>\n",
       "      <td>nenhum</td>\n",
       "      <td>este é o segundo celta que compro 0km e não me...</td>\n",
       "    </tr>\n",
       "    <tr>\n",
       "      <th>9f62a709</th>\n",
       "      <td>Chevrolet</td>\n",
       "      <td>tamanhocabe em qualquer vagaexcelente para and...</td>\n",
       "      <td>nao tem levando em conta que o carro foi feito...</td>\n",
       "      <td>até agora nenhum já fiz algumas viagens e graç...</td>\n",
       "      <td>recomendo carro valente relativamente confortá...</td>\n",
       "    </tr>\n",
       "    <tr>\n",
       "      <th>0e6c8d29</th>\n",
       "      <td>Chevrolet</td>\n",
       "      <td>carro extremamente confiavel so fazer a manute...</td>\n",
       "      <td>acabamento do carro é rustico bem mal feito ba...</td>\n",
       "      <td>nada o carro é valente</td>\n",
       "      <td>ja passei ate por trilhas onde caminhonetes fi...</td>\n",
       "    </tr>\n",
       "    <tr>\n",
       "      <th>3c958631</th>\n",
       "      <td>Chevrolet</td>\n",
       "      <td>desempenhopara 10 manutenção barata carro bem ...</td>\n",
       "      <td>meio duro pouco espaço motor grita muito em vi...</td>\n",
       "      <td>bomba dágua</td>\n",
       "      <td>carro honesto para primeiro veiculo melhor que...</td>\n",
       "    </tr>\n",
       "  </tbody>\n",
       "</table>\n",
       "</div>"
      ],
      "text/plain": [
       "              Marca                                               Prós  \\\n",
       "ID                                                                       \n",
       "e2b9dc08  Chevrolet  economia de combustível peças baratas resisten...   \n",
       "3b9dcf63  Chevrolet  motor potente pra um carro 10 sem deixar de la...   \n",
       "9f62a709  Chevrolet  tamanhocabe em qualquer vagaexcelente para and...   \n",
       "0e6c8d29  Chevrolet  carro extremamente confiavel so fazer a manute...   \n",
       "3c958631  Chevrolet  desempenhopara 10 manutenção barata carro bem ...   \n",
       "\n",
       "                                                    Contras  \\\n",
       "ID                                                            \n",
       "e2b9dc08  um pouco baixo as vezes quando está carregado ...   \n",
       "3b9dcf63                                      saiu de linha   \n",
       "9f62a709  nao tem levando em conta que o carro foi feito...   \n",
       "0e6c8d29  acabamento do carro é rustico bem mal feito ba...   \n",
       "3c958631  meio duro pouco espaço motor grita muito em vi...   \n",
       "\n",
       "                                                   Defeitos  \\\n",
       "ID                                                            \n",
       "e2b9dc08                                             nenhum   \n",
       "3b9dcf63                                             nenhum   \n",
       "9f62a709  até agora nenhum já fiz algumas viagens e graç...   \n",
       "0e6c8d29                             nada o carro é valente   \n",
       "3c958631                                        bomba dágua   \n",
       "\n",
       "                                                    Opinião  \n",
       "ID                                                           \n",
       "e2b9dc08  o carro é 10 estou com ele a 7 anos e rodei 35...  \n",
       "3b9dcf63  este é o segundo celta que compro 0km e não me...  \n",
       "9f62a709  recomendo carro valente relativamente confortá...  \n",
       "0e6c8d29  ja passei ate por trilhas onde caminhonetes fi...  \n",
       "3c958631  carro honesto para primeiro veiculo melhor que...  "
      ]
     },
     "execution_count": 8,
     "metadata": {},
     "output_type": "execute_result"
    }
   ],
   "source": [
    "df.head()"
   ]
  },
  {
   "cell_type": "code",
   "execution_count": 9,
   "metadata": {},
   "outputs": [],
   "source": [
    "def clean_stopwords(x):\n",
    "    word_list = x.split(' ')\n",
    "    return [word for word in word_list if word not in stop_words]"
   ]
  },
  {
   "cell_type": "code",
   "execution_count": 10,
   "metadata": {},
   "outputs": [],
   "source": [
    "def df_clean_stopwords(df):\n",
    "    df['Prós'] = df['Prós'].apply(lambda x: clean_stopwords(x))\n",
    "    df['Contras'] = df['Contras'].apply(lambda x: clean_stopwords(x))\n",
    "    df['Defeitos'] = df['Defeitos'].apply(lambda x: clean_stopwords(x))\n",
    "    df['Opinião'] = df['Opinião'].apply(lambda x: clean_stopwords(x))"
   ]
  },
  {
   "cell_type": "code",
   "execution_count": 11,
   "metadata": {},
   "outputs": [],
   "source": [
    "df_clean_stopwords(df)"
   ]
  },
  {
   "cell_type": "code",
   "execution_count": 12,
   "metadata": {},
   "outputs": [
    {
     "data": {
      "text/html": [
       "<div>\n",
       "<style>\n",
       "    .dataframe thead tr:only-child th {\n",
       "        text-align: right;\n",
       "    }\n",
       "\n",
       "    .dataframe thead th {\n",
       "        text-align: left;\n",
       "    }\n",
       "\n",
       "    .dataframe tbody tr th {\n",
       "        vertical-align: top;\n",
       "    }\n",
       "</style>\n",
       "<table border=\"1\" class=\"dataframe\">\n",
       "  <thead>\n",
       "    <tr style=\"text-align: right;\">\n",
       "      <th></th>\n",
       "      <th>Marca</th>\n",
       "      <th>Prós</th>\n",
       "      <th>Contras</th>\n",
       "      <th>Defeitos</th>\n",
       "      <th>Opinião</th>\n",
       "    </tr>\n",
       "    <tr>\n",
       "      <th>ID</th>\n",
       "      <th></th>\n",
       "      <th></th>\n",
       "      <th></th>\n",
       "      <th></th>\n",
       "      <th></th>\n",
       "    </tr>\n",
       "  </thead>\n",
       "  <tbody>\n",
       "    <tr>\n",
       "      <th>e2b9dc08</th>\n",
       "      <td>Chevrolet</td>\n",
       "      <td>[economia, combustível, peças, baratas, resist...</td>\n",
       "      <td>[pouco, baixo, vezes, carregado, pega, baixo, ...</td>\n",
       "      <td>[nenhum]</td>\n",
       "      <td>[carro, 10, 7, anos, rodei, 35000, kmrodo, pou...</td>\n",
       "    </tr>\n",
       "    <tr>\n",
       "      <th>3b9dcf63</th>\n",
       "      <td>Chevrolet</td>\n",
       "      <td>[motor, potente, pra, carro, 10, deixar, lado,...</td>\n",
       "      <td>[saiu, linha]</td>\n",
       "      <td>[nenhum]</td>\n",
       "      <td>[segundo, celta, compro, 0km, arrependo, faço,...</td>\n",
       "    </tr>\n",
       "    <tr>\n",
       "      <th>9f62a709</th>\n",
       "      <td>Chevrolet</td>\n",
       "      <td>[tamanhocabe, qualquer, vagaexcelente, andar, ...</td>\n",
       "      <td>[nao, levando, conta, carro, feito, pensando, ...</td>\n",
       "      <td>[agora, nenhum, fiz, algumas, viagens, graças,...</td>\n",
       "      <td>[recomendo, carro, valente, relativamente, con...</td>\n",
       "    </tr>\n",
       "    <tr>\n",
       "      <th>0e6c8d29</th>\n",
       "      <td>Chevrolet</td>\n",
       "      <td>[carro, extremamente, confiavel, fazer, manute...</td>\n",
       "      <td>[acabamento, carro, rustico, bem, mal, feito, ...</td>\n",
       "      <td>[nada, carro, valente]</td>\n",
       "      <td>[passei, ate, trilhas, onde, caminhonetes, fic...</td>\n",
       "    </tr>\n",
       "    <tr>\n",
       "      <th>3c958631</th>\n",
       "      <td>Chevrolet</td>\n",
       "      <td>[desempenhopara, 10, manutenção, barata, carro...</td>\n",
       "      <td>[meio, duro, pouco, espaço, motor, grita, viag...</td>\n",
       "      <td>[bomba, dágua]</td>\n",
       "      <td>[carro, honesto, primeiro, veiculo, melhor, go...</td>\n",
       "    </tr>\n",
       "  </tbody>\n",
       "</table>\n",
       "</div>"
      ],
      "text/plain": [
       "              Marca                                               Prós  \\\n",
       "ID                                                                       \n",
       "e2b9dc08  Chevrolet  [economia, combustível, peças, baratas, resist...   \n",
       "3b9dcf63  Chevrolet  [motor, potente, pra, carro, 10, deixar, lado,...   \n",
       "9f62a709  Chevrolet  [tamanhocabe, qualquer, vagaexcelente, andar, ...   \n",
       "0e6c8d29  Chevrolet  [carro, extremamente, confiavel, fazer, manute...   \n",
       "3c958631  Chevrolet  [desempenhopara, 10, manutenção, barata, carro...   \n",
       "\n",
       "                                                    Contras  \\\n",
       "ID                                                            \n",
       "e2b9dc08  [pouco, baixo, vezes, carregado, pega, baixo, ...   \n",
       "3b9dcf63                                      [saiu, linha]   \n",
       "9f62a709  [nao, levando, conta, carro, feito, pensando, ...   \n",
       "0e6c8d29  [acabamento, carro, rustico, bem, mal, feito, ...   \n",
       "3c958631  [meio, duro, pouco, espaço, motor, grita, viag...   \n",
       "\n",
       "                                                   Defeitos  \\\n",
       "ID                                                            \n",
       "e2b9dc08                                           [nenhum]   \n",
       "3b9dcf63                                           [nenhum]   \n",
       "9f62a709  [agora, nenhum, fiz, algumas, viagens, graças,...   \n",
       "0e6c8d29                             [nada, carro, valente]   \n",
       "3c958631                                     [bomba, dágua]   \n",
       "\n",
       "                                                    Opinião  \n",
       "ID                                                           \n",
       "e2b9dc08  [carro, 10, 7, anos, rodei, 35000, kmrodo, pou...  \n",
       "3b9dcf63  [segundo, celta, compro, 0km, arrependo, faço,...  \n",
       "9f62a709  [recomendo, carro, valente, relativamente, con...  \n",
       "0e6c8d29  [passei, ate, trilhas, onde, caminhonetes, fic...  \n",
       "3c958631  [carro, honesto, primeiro, veiculo, melhor, go...  "
      ]
     },
     "execution_count": 12,
     "metadata": {},
     "output_type": "execute_result"
    }
   ],
   "source": [
    "df.head()"
   ]
  },
  {
   "cell_type": "code",
   "execution_count": 13,
   "metadata": {},
   "outputs": [],
   "source": [
    "def df_get_bigrams(df):\n",
    "    df['bi_Prós'] = df['Prós'].apply(lambda x: list(nltk.ngrams(x ,2)))\n",
    "    df['bi_Contras'] = df['Contras'].apply(lambda x: list(nltk.ngrams(x ,2)))\n",
    "    df['bi_Defeitos'] = df['Defeitos'].apply(lambda x: list(nltk.ngrams(x ,2)))\n",
    "    df['bi_Opinião'] = df['Opinião'].apply(lambda x: list(nltk.ngrams(x ,2)))"
   ]
  },
  {
   "cell_type": "code",
   "execution_count": 14,
   "metadata": {},
   "outputs": [],
   "source": [
    "df_get_bigrams(df)"
   ]
  },
  {
   "cell_type": "code",
   "execution_count": 15,
   "metadata": {},
   "outputs": [],
   "source": [
    "def df_get_trigrams(df):\n",
    "    df['tri_Prós'] = df['Prós'].apply(lambda x: list(nltk.ngrams(x, 3)))\n",
    "    df['tri_Contras'] = df['Contras'].apply(lambda x: list(nltk.ngrams(x, 3)))\n",
    "    df['tri_Defeitos'] = df['Defeitos'].apply(lambda x: list(nltk.ngrams(x, 3)))\n",
    "    df['tri_Opinião'] = df['Opinião'].apply(lambda x: list(nltk.ngrams(x, 3)))"
   ]
  },
  {
   "cell_type": "code",
   "execution_count": 16,
   "metadata": {},
   "outputs": [],
   "source": [
    "df_get_trigrams(df)"
   ]
  },
  {
   "cell_type": "code",
   "execution_count": 17,
   "metadata": {},
   "outputs": [
    {
     "data": {
      "text/plain": [
       "Marca                                                   Chevrolet\n",
       "Prós            [motor, potente, pra, carro, 10, deixar, lado,...\n",
       "Contras                                             [saiu, linha]\n",
       "Defeitos                                                 [nenhum]\n",
       "Opinião         [segundo, celta, compro, 0km, arrependo, faço,...\n",
       "bi_Prós         [(motor, potente), (potente, pra), (pra, carro...\n",
       "bi_Contras                                        [(saiu, linha)]\n",
       "bi_Defeitos                                                    []\n",
       "bi_Opinião      [(segundo, celta), (celta, compro), (compro, 0...\n",
       "tri_Prós        [(motor, potente, pra), (potente, pra, carro),...\n",
       "tri_Contras                                                    []\n",
       "tri_Defeitos                                                   []\n",
       "tri_Opinião     [(segundo, celta, compro), (celta, compro, 0km...\n",
       "Name: 3b9dcf63, dtype: object"
      ]
     },
     "execution_count": 17,
     "metadata": {},
     "output_type": "execute_result"
    }
   ],
   "source": [
    "df.iloc[1]"
   ]
  },
  {
   "cell_type": "code",
   "execution_count": 18,
   "metadata": {},
   "outputs": [],
   "source": [
    "df_renault = df[df['Marca'] == 'Renault']\n",
    "df_chevrolet = df[df['Marca'] == 'Chevrolet']\n",
    "df_fiat = df[df['Marca'] == 'Fiat']\n",
    "df_hyundai = df[df['Marca'] == 'Hyundai']\n",
    "df_volkswagen = df[df['Marca'] == 'Volkswagen']"
   ]
  },
  {
   "cell_type": "code",
   "execution_count": 19,
   "metadata": {},
   "outputs": [],
   "source": [
    "df_list = [df_renault, df_chevrolet, df_fiat, df_hyundai, df_volkswagen]"
   ]
  },
  {
   "cell_type": "code",
   "execution_count": 20,
   "metadata": {},
   "outputs": [],
   "source": [
    "listas_bi_pros = []\n",
    "for i, df in enumerate(df_list):\n",
    "    bi_pros_list = []\n",
    "    for index, row in df.iterrows():\n",
    "        bi_pros_list += row['bi_Prós']\n",
    "    listas_bi_pros.append(bi_pros_list)"
   ]
  },
  {
   "cell_type": "code",
   "execution_count": 21,
   "metadata": {},
   "outputs": [],
   "source": [
    "listas_bi_contras = []\n",
    "for i, df in enumerate(df_list):\n",
    "    bi_pros_list = []\n",
    "    for index, row in df.iterrows():\n",
    "        bi_pros_list += row['bi_Contras']\n",
    "    listas_bi_contras.append(bi_pros_list)"
   ]
  },
  {
   "cell_type": "code",
   "execution_count": 22,
   "metadata": {},
   "outputs": [],
   "source": [
    "listas_bi_defeitos = []\n",
    "for i, df in enumerate(df_list):\n",
    "    bi_pros_list = []\n",
    "    for index, row in df.iterrows():\n",
    "        bi_pros_list += row['bi_Defeitos']\n",
    "    listas_bi_defeitos.append(bi_pros_list)"
   ]
  },
  {
   "cell_type": "code",
   "execution_count": 23,
   "metadata": {},
   "outputs": [],
   "source": [
    "listas_tri_pros = []\n",
    "for i, df in enumerate(df_list):\n",
    "    tri_pros_list = []\n",
    "    for index, row in df.iterrows():\n",
    "        tri_pros_list += row['tri_Prós']\n",
    "    listas_tri_pros.append(tri_pros_list)"
   ]
  },
  {
   "cell_type": "code",
   "execution_count": 24,
   "metadata": {},
   "outputs": [],
   "source": [
    "listas_tri_contras = []\n",
    "for i, df in enumerate(df_list):\n",
    "    tri_pros_list = []\n",
    "    for index, row in df.iterrows():\n",
    "        tri_pros_list += row['tri_Contras']\n",
    "    listas_tri_contras.append(tri_pros_list)"
   ]
  },
  {
   "cell_type": "code",
   "execution_count": 25,
   "metadata": {},
   "outputs": [],
   "source": [
    "listas_tri_defeitos = []\n",
    "for i, df in enumerate(df_list):\n",
    "    tri_pros_list = []\n",
    "    for index, row in df.iterrows():\n",
    "        tri_pros_list += row['tri_Defeitos']\n",
    "    listas_tri_defeitos.append(tri_pros_list)"
   ]
  },
  {
   "cell_type": "markdown",
   "metadata": {},
   "source": [
    "# <br><br><font color='#cccc00'>Renault</font>"
   ]
  },
  {
   "cell_type": "markdown",
   "metadata": {},
   "source": [
    "## Bigramas Prós\n",
    "Espaço Interno,\n",
    "Porta Malas,\n",
    "Posição Dirigir"
   ]
  },
  {
   "cell_type": "code",
   "execution_count": 43,
   "metadata": {
    "scrolled": true
   },
   "outputs": [
    {
     "name": "stdout",
     "output_type": "stream",
     "text": [
      "('bom', 'espaço') 47\n",
      "('espaço', 'interno') 300\n",
      "('interno', 'porta') 34\n",
      "('porta', 'malas') 136\n",
      "('carro', 'bonito') 27\n",
      "('computador', 'bordo') 27\n",
      "('posição', 'dirigir') 88\n",
      "('interno', 'bom') 33\n",
      "('3', 'anos') 31\n",
      "('motor', '16') 29\n",
      "('ótimo', 'espaço') 26\n"
     ]
    }
   ],
   "source": [
    "fdist = nltk.FreqDist(listas_bi_pros[0])\n",
    "for k,v in fdist.items():\n",
    "    if v > 25:\n",
    "        print (k,v)"
   ]
  },
  {
   "cell_type": "markdown",
   "metadata": {},
   "source": [
    "## Bigramas Contras\n",
    "Vidros Elétricos, Barulho Motor, Isolamento Acústico, Acabamento Interno"
   ]
  },
  {
   "cell_type": "code",
   "execution_count": 37,
   "metadata": {
    "scrolled": false
   },
   "outputs": [
    {
     "name": "stdout",
     "output_type": "stream",
     "text": [
      "('acabamento', 'interno') 28\n",
      "('motor', '10') 21\n",
      "('poderia', 'melhor') 22\n",
      "('barulho', 'motor') 29\n",
      "('vidros', 'elétricos') 33\n",
      "('isolamento', 'acústico') 28\n"
     ]
    }
   ],
   "source": [
    "fdist = nltk.FreqDist(listas_bi_contras[0])\n",
    "for k,v in fdist.items():\n",
    "    if v > 20:\n",
    "        print (k,v)"
   ]
  },
  {
   "cell_type": "markdown",
   "metadata": {},
   "source": [
    "## Bigramas Defeitos\n",
    "Mil km, Nenhum Defeito, Nenhum Momento"
   ]
  },
  {
   "cell_type": "code",
   "execution_count": 95,
   "metadata": {
    "scrolled": true
   },
   "outputs": [
    {
     "name": "stdout",
     "output_type": "stream",
     "text": [
      "('mil', 'km') 37\n",
      "('km', 'rodados') 20\n",
      "('caixa', 'direção') 15\n",
      "('30000', 'km') 11\n",
      "('correia', 'dentada') 11\n",
      "('banco', 'motorista') 17\n",
      "('agora', 'nenhum') 13\n",
      "('nenhum', 'agora') 12\n",
      "('apresentou', 'defeito') 16\n",
      "('porta', 'motorista') 13\n",
      "('nenhum', 'momento') 26\n",
      "('apresentou', 'nenhum') 11\n",
      "('nenhum', 'defeito') 37\n",
      "('km', 'apresentou') 12\n",
      "('10000', 'km') 11\n",
      "('momento', 'nenhum') 14\n"
     ]
    }
   ],
   "source": [
    "fdist = nltk.FreqDist(listas_bi_defeitos[0])\n",
    "for k,v in fdist.items():\n",
    "    if v > 10:\n",
    "        print (k,v)"
   ]
  },
  {
   "cell_type": "markdown",
   "metadata": {},
   "source": [
    "## Trigramas Prós\n",
    "Bom espaco interno, Interno porta malas, Boa posicao para dirigir"
   ]
  },
  {
   "cell_type": "code",
   "execution_count": 97,
   "metadata": {
    "scrolled": true
   },
   "outputs": [
    {
     "name": "stdout",
     "output_type": "stream",
     "text": [
      "('bom', 'espaço', 'interno') 31\n",
      "('espaço', 'interno', 'porta') 32\n",
      "('interno', 'porta', 'malas') 32\n",
      "('excelente', 'espaço', 'interno') 18\n",
      "('boa', 'posição', 'dirigir') 18\n",
      "('espaço', 'interno', 'bom') 30\n",
      "('ótimo', 'espaço', 'interno') 23\n",
      "('espaço', 'interno', 'portamalas') 18\n",
      "('espaço', 'interno', 'excelente') 25\n"
     ]
    }
   ],
   "source": [
    "fdist = nltk.FreqDist(listas_tri_pros[0])\n",
    "for k,v in fdist.items():\n",
    "    if v > 15:\n",
    "        print (k,v)"
   ]
  },
  {
   "cell_type": "markdown",
   "metadata": {},
   "source": [
    "## Trigramas Contras\n",
    "Botões vidros eletricos, Faz (um) pouco barulho, Estepe embaixo carro"
   ]
  },
  {
   "cell_type": "code",
   "execution_count": 49,
   "metadata": {
    "scrolled": true
   },
   "outputs": [
    {
     "name": "stdout",
     "output_type": "stream",
     "text": [
      "('estepe', 'baixo', 'carro') 5\n",
      "('botões', 'vidros', 'elétricos') 7\n",
      "('deixa', 'pouco', 'desejar') 6\n",
      "('estepe', 'embaixo', 'carro') 8\n",
      "('faz', 'pouco', 'barulho') 5\n"
     ]
    }
   ],
   "source": [
    "fdist = nltk.FreqDist(listas_tri_contras[0])\n",
    "for k,v in fdist.items():\n",
    "    if v > 4:\n",
    "        print (k,v)"
   ]
  },
  {
   "cell_type": "markdown",
   "metadata": {},
   "source": [
    "## Trigramas Defeitos\n",
    "Defeito em 20 mil km, Apresentou nenhum defeito, Mil km rodados"
   ]
  },
  {
   "cell_type": "code",
   "execution_count": 53,
   "metadata": {
    "scrolled": true
   },
   "outputs": [
    {
     "name": "stdout",
     "output_type": "stream",
     "text": [
      "('mil', 'km', 'rodados') 6\n",
      "('40', 'mil', 'km') 4\n",
      "('apresentou', 'nenhum', 'defeito') 8\n",
      "('nenhum', 'ate', 'agora') 4\n",
      "('nenhum', 'defeito', 'apresentado') 8\n",
      "('revisão', '20', 'mil') 4\n",
      "('barulho', 'roda', 'dianteira') 4\n",
      "('km', 'rodados', 'nenhum') 4\n",
      "('km', 'apresentou', 'defeito') 4\n"
     ]
    }
   ],
   "source": [
    "fdist = nltk.FreqDist(listas_tri_defeitos[0])\n",
    "for k,v in fdist.items():\n",
    "    if v > 3:\n",
    "        print (k,v)"
   ]
  },
  {
   "cell_type": "markdown",
   "metadata": {},
   "source": [
    "# <br><br><font color='#3399ff'>Volkswagen</font>"
   ]
  },
  {
   "cell_type": "markdown",
   "metadata": {},
   "source": [
    "## Bigramas Prós\n",
    "Espaço Interno, Posição dirigir, Carro Bonito"
   ]
  },
  {
   "cell_type": "code",
   "execution_count": 56,
   "metadata": {
    "scrolled": true
   },
   "outputs": [
    {
     "name": "stdout",
     "output_type": "stream",
     "text": [
      "('posição', 'dirigir') 157\n",
      "('manutenção', 'barata') 103\n",
      "('motor', '16') 63\n",
      "('computador', 'bordo') 69\n",
      "('carro', 'bonito') 109\n",
      "('carro', 'bom') 68\n",
      "('espaço', 'interno') 242\n",
      "('anda', 'bem') 79\n"
     ]
    }
   ],
   "source": [
    "fdist = nltk.FreqDist(listas_bi_pros[4])\n",
    "for k,v in fdist.items():\n",
    "    if v > 60:\n",
    "        print (k,v)"
   ]
  },
  {
   "cell_type": "markdown",
   "metadata": {},
   "source": [
    "## Bigramas Contras\n",
    "Porta Malas, Suspensão Dura, Malas Pequeno"
   ]
  },
  {
   "cell_type": "code",
   "execution_count": 59,
   "metadata": {
    "scrolled": false
   },
   "outputs": [
    {
     "name": "stdout",
     "output_type": "stream",
     "text": [
      "('porta', 'malas') 229\n",
      "('malas', 'pequeno') 89\n",
      "('suspensão', 'dura') 106\n",
      "('acabamento', 'interno') 84\n",
      "('seguro', 'caro') 53\n",
      "('faz', 'barulho') 58\n",
      "('posição', 'dirigir') 53\n"
     ]
    }
   ],
   "source": [
    "fdist = nltk.FreqDist(listas_bi_contras[4])\n",
    "for k,v in fdist.items():\n",
    "    if v > 50:\n",
    "        print (k,v)"
   ]
  },
  {
   "cell_type": "markdown",
   "metadata": {},
   "source": [
    "## Bigramas Defeitos"
   ]
  },
  {
   "cell_type": "code",
   "execution_count": 63,
   "metadata": {
    "scrolled": true
   },
   "outputs": [
    {
     "name": "stdout",
     "output_type": "stream",
     "text": [
      "('vidros', 'elétricos') 37\n",
      "('duas', 'vezes') 43\n",
      "('nenhum', 'defeito') 52\n",
      "('mil', 'km') 90\n",
      "('vidro', 'elétrico') 40\n",
      "('1', 'ano') 37\n",
      "('km', 'rodados') 55\n",
      "('correia', 'dentada') 36\n"
     ]
    }
   ],
   "source": [
    "fdist = nltk.FreqDist(listas_bi_defeitos[4])\n",
    "for k,v in fdist.items():\n",
    "    if v > 35:\n",
    "        print (k,v)"
   ]
  },
  {
   "cell_type": "markdown",
   "metadata": {},
   "source": [
    "## Trigramas Prós"
   ]
  },
  {
   "cell_type": "code",
   "execution_count": 66,
   "metadata": {
    "scrolled": true
   },
   "outputs": [
    {
     "name": "stdout",
     "output_type": "stream",
     "text": [
      "('espaço', 'interno', 'bom') 26\n",
      "('bom', 'espaço', 'interno') 36\n",
      "('nunca', 'deixou', 'mão') 20\n",
      "('boa', 'posição', 'dirigir') 23\n",
      "('baixo', 'custo', 'manutenção') 23\n"
     ]
    }
   ],
   "source": [
    "fdist = nltk.FreqDist(listas_tri_pros[4])\n",
    "for k,v in fdist.items():\n",
    "    if v > 15:\n",
    "        print (k,v)"
   ]
  },
  {
   "cell_type": "markdown",
   "metadata": {},
   "source": [
    "## Trigramas Contras\n",
    "Porta Malas Pequeno, Suspensão Pouco Dura, Alto Consumo Combustível\n"
   ]
  },
  {
   "cell_type": "code",
   "execution_count": 70,
   "metadata": {
    "scrolled": true
   },
   "outputs": [
    {
     "name": "stdout",
     "output_type": "stream",
     "text": [
      "('porta', 'malas', 'pequeno') 85\n",
      "('porta', 'mala', 'pequeno') 12\n",
      "('suspensão', 'pouco', 'dura') 17\n",
      "('cada', '6', 'meses') 11\n",
      "('alto', 'consumo', 'combustível') 10\n",
      "('ponto', 'cego', 'coluna') 11\n",
      "('parece', 'carro', 'vai') 8\n",
      "('altura', 'banco', 'motorista') 11\n",
      "('parece', 'escola', 'samba') 10\n",
      "('motor', '10', 'fraco') 14\n",
      "('motor', 'faz', 'barulho') 8\n",
      "('muitos', 'ruídos', 'internos') 9\n",
      "('regulagem', 'altura', 'banco') 9\n"
     ]
    }
   ],
   "source": [
    "fdist = nltk.FreqDist(listas_tri_contras[4])\n",
    "for k,v in fdist.items():\n",
    "    if v > 7:\n",
    "        print (k,v)"
   ]
  },
  {
   "cell_type": "markdown",
   "metadata": {},
   "source": [
    "## Trigramas Defeitos\n",
    "Apresentou Nenhum Defeito, 2 Ano Uso, Mil Km Rodados"
   ]
  },
  {
   "cell_type": "code",
   "execution_count": 98,
   "metadata": {
    "scrolled": true
   },
   "outputs": [
    {
     "name": "stdout",
     "output_type": "stream",
     "text": [
      "('velas', 'cabos', 'velas') 9\n",
      "('cabos', 'velas', 'velas') 8\n",
      "('apresentou', 'nenhum', 'defeito') 15\n",
      "('40', 'mil', 'km') 8\n",
      "('1', 'ano', 'uso') 8\n",
      "('2', 'anos', 'uso') 13\n",
      "('ate', 'agora', 'nenhum') 8\n",
      "('mil', 'km', 'rodados') 14\n"
     ]
    }
   ],
   "source": [
    "fdist = nltk.FreqDist(listas_tri_defeitos[4])\n",
    "for k,v in fdist.items():\n",
    "    if v > 7:\n",
    "        print (k,v)"
   ]
  },
  {
   "cell_type": "markdown",
   "metadata": {},
   "source": [
    "# <br><br><font color='#999966'>Hyundai</font>"
   ]
  },
  {
   "cell_type": "markdown",
   "metadata": {},
   "source": [
    "## Bigramas Prós\n",
    "Carro Bonito, Porta Malas, Espaço Interno"
   ]
  },
  {
   "cell_type": "code",
   "execution_count": 99,
   "metadata": {
    "scrolled": true
   },
   "outputs": [
    {
     "name": "stdout",
     "output_type": "stream",
     "text": [
      "('porta', 'malas') 37\n",
      "('5', 'anos') 27\n",
      "('carro', 'bonito') 51\n",
      "('acabamento', 'interno') 25\n",
      "('espaço', 'interno') 30\n"
     ]
    }
   ],
   "source": [
    "fdist = nltk.FreqDist(listas_bi_pros[3])\n",
    "for k,v in fdist.items():\n",
    "    if v > 23:\n",
    "        print (k,v)"
   ]
  },
  {
   "cell_type": "markdown",
   "metadata": {},
   "source": [
    "## Bigramas Contras\n",
    "Suspensão Traseira, Espaço Interno, Porta Malas "
   ]
  },
  {
   "cell_type": "code",
   "execution_count": 100,
   "metadata": {
    "scrolled": false
   },
   "outputs": [
    {
     "name": "stdout",
     "output_type": "stream",
     "text": [
      "('banco', 'motorista') 19\n",
      "('porta', 'malas') 31\n",
      "('espaço', 'interno') 32\n",
      "('suspensão', 'traseira') 44\n",
      "('banco', 'traseiro') 26\n",
      "('deixa', 'desejar') 19\n",
      "('computador', 'bordo') 20\n"
     ]
    }
   ],
   "source": [
    "fdist = nltk.FreqDist(listas_bi_contras[3])\n",
    "for k,v in fdist.items():\n",
    "    if v > 18:\n",
    "        print (k,v)"
   ]
  },
  {
   "cell_type": "markdown",
   "metadata": {},
   "source": [
    "## Bigramas Defeitos"
   ]
  },
  {
   "cell_type": "code",
   "execution_count": 94,
   "metadata": {
    "scrolled": true
   },
   "outputs": [
    {
     "name": "stdout",
     "output_type": "stream",
     "text": [
      "('nenhum', 'momento') 33\n",
      "('mil', 'km') 11\n",
      "('nenhum', 'defeito') 27\n",
      "('momento', 'nenhum') 24\n"
     ]
    }
   ],
   "source": [
    "fdist = nltk.FreqDist(listas_bi_defeitos[3])\n",
    "for k,v in fdist.items():\n",
    "    if v > 10:\n",
    "        print (k,v)"
   ]
  },
  {
   "cell_type": "markdown",
   "metadata": {},
   "source": [
    "## Trigramas Prós\n",
    "Garantia 5 anos, Bonito chama atenção, Leve parece Elétrico"
   ]
  },
  {
   "cell_type": "code",
   "execution_count": 92,
   "metadata": {
    "scrolled": true
   },
   "outputs": [
    {
     "name": "stdout",
     "output_type": "stream",
     "text": [
      "('condicionado', 'gela', 'bem') 5\n",
      "('garantia', '5', 'anos') 15\n",
      "('5', 'anos', 'garantia') 10\n",
      "('carro', 'bonito', 'chama') 5\n",
      "('bonito', 'chama', 'atenção') 7\n",
      "('leve', 'parece', 'elétrica') 5\n",
      "('acabamento', 'interno', 'bom') 5\n"
     ]
    }
   ],
   "source": [
    "fdist = nltk.FreqDist(listas_tri_pros[3])\n",
    "for k,v in fdist.items():\n",
    "    if v > 4:\n",
    "        print (k,v)"
   ]
  },
  {
   "cell_type": "markdown",
   "metadata": {},
   "source": [
    "## Trigramas Contras\n",
    "Rugulagem Altura Banco, Altura Banco Motorista, Suspensão (um) pouco dura"
   ]
  },
  {
   "cell_type": "code",
   "execution_count": 89,
   "metadata": {
    "scrolled": true
   },
   "outputs": [
    {
     "name": "stdout",
     "output_type": "stream",
     "text": [
      "('suspensão', 'pouco', 'dura') 7\n",
      "('espaço', 'interno', 'traseiro') 6\n",
      "('regulagem', 'altura', 'banco') 10\n",
      "('altura', 'banco', 'motorista') 10\n",
      "('luz', 'porta', 'malas') 7\n",
      "('luz', 'porta', 'luvas') 5\n",
      "('duas', 'pessoas', 'banco') 6\n",
      "('computador', 'bordo', 'poderia') 5\n"
     ]
    }
   ],
   "source": [
    "fdist = nltk.FreqDist(listas_tri_contras[3])\n",
    "for k,v in fdist.items():\n",
    "    if v > 4:\n",
    "        print (k,v)"
   ]
  },
  {
   "cell_type": "markdown",
   "metadata": {},
   "source": [
    "## Trigramas Defeitos\n",
    "Nenhum Defeito Momento, Nenhum Defeito Apresentado, Apresentou nenhum defeito"
   ]
  },
  {
   "cell_type": "code",
   "execution_count": 90,
   "metadata": {
    "scrolled": true
   },
   "outputs": [
    {
     "name": "stdout",
     "output_type": "stream",
     "text": [
      "('apresentou', 'nenhum', 'defeito') 5\n",
      "('nenhum', 'defeito', 'momento') 6\n",
      "('nenhum', 'defeito', 'apresentado') 5\n",
      "('km', 'rodados', 'nenhum') 4\n"
     ]
    }
   ],
   "source": [
    "fdist = nltk.FreqDist(listas_tri_defeitos[3])\n",
    "for k,v in fdist.items():\n",
    "    if v > 3:\n",
    "        print (k,v)"
   ]
  },
  {
   "cell_type": "code",
   "execution_count": null,
   "metadata": {},
   "outputs": [],
   "source": []
  }
 ],
 "metadata": {
  "kernelspec": {
   "display_name": "Python 3",
   "language": "python",
   "name": "python3"
  },
  "language_info": {
   "codemirror_mode": {
    "name": "ipython",
    "version": 3
   },
   "file_extension": ".py",
   "mimetype": "text/x-python",
   "name": "python",
   "nbconvert_exporter": "python",
   "pygments_lexer": "ipython3",
   "version": "3.6.4"
  }
 },
 "nbformat": 4,
 "nbformat_minor": 2
}
